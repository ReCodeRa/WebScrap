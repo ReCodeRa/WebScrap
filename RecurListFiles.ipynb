{
 "cells": [
  {
   "attachments": {},
   "cell_type": "markdown",
   "metadata": {},
   "source": [
    "#### Import packages"
   ]
  },
  {
   "cell_type": "code",
   "execution_count": 1,
   "metadata": {},
   "outputs": [],
   "source": [
    "import os\n",
    "import glob"
   ]
  },
  {
   "attachments": {},
   "cell_type": "markdown",
   "metadata": {},
   "source": [
    "#### Get and Set working directory"
   ]
  },
  {
   "cell_type": "code",
   "execution_count": 3,
   "metadata": {},
   "outputs": [
    {
     "data": {
      "text/plain": [
       "'I:\\\\CCTD\\\\Projects\\\\Mirtazapine 2023\\\\MRI_mirta\\\\MRI_mirta\\\\res'"
      ]
     },
     "execution_count": 3,
     "metadata": {},
     "output_type": "execute_result"
    }
   ],
   "source": [
    "os.chdir(r\"I:\\CCTD\\Projects\\Mirtazapine 2023\\MRI_mirta\\MRI_mirta\\res\")\n",
    "os.getcwd()"
   ]
  },
  {
   "attachments": {},
   "cell_type": "markdown",
   "metadata": {},
   "source": [
    "#### Get names of files"
   ]
  },
  {
   "cell_type": "code",
   "execution_count": 8,
   "metadata": {},
   "outputs": [
    {
     "name": "stdout",
     "output_type": "stream",
     "text": [
      ".\\DE_H_1570_001\\Commitment Mirtazapin DE-H-1570.pdf\n",
      ".\\DE_H_1570_001\\common-final-labop-1570-V038.pdf\n",
      ".\\DE_H_1570_001\\common-final-pl-1570-V038.pdf\n",
      ".\\DE_H_1570_001\\common-final-spc-1570-V038.pdf\n",
      ".\\DE_H_1570_001\\DE1570_Mirtazapine_PIL_20111208_renewal.pdf\n",
      ".\\DE_H_1570_001\\DE1570_Mirtazapine_SPC_20111208_renewal.pdf\n",
      ".\\DE_H_1570_001\\End of procedure_ DE_H_1570_001-003_R_001 Mirtazapin ratiopharm.pdf\n",
      ".\\DE_H_1570_001\\Mirtazapine-ImP-DE_H_1570-22.07.11.pdf\n",
      ".\\DE_H_1570_001\\Mirtazapine-OuP-DE_H_1570-29.11.11.pdf\n",
      ".\\DE_H_1570_002\\Commitment Mirtazapin DE-H-1570.pdf\n",
      ".\\DE_H_1570_002\\common-final-labop-1570-V038.pdf\n",
      ".\\DE_H_1570_002\\common-final-pl-1570-V038.pdf\n",
      ".\\DE_H_1570_002\\common-final-spc-1570-V038.pdf\n",
      ".\\DE_H_1570_002\\DE1570_Mirtazapine_PIL_20111208_renewal.pdf\n",
      ".\\DE_H_1570_002\\DE1570_Mirtazapine_SPC_20111208_renewal.pdf\n",
      ".\\DE_H_1570_002\\End of procedure_ DE_H_1570_001-003_R_001 Mirtazapin ratiopharm.pdf\n",
      ".\\DE_H_1570_002\\Mirtazapine-ImP-DE_H_1570-22.07.11.pdf\n",
      ".\\DE_H_1570_002\\Mirtazapine-OuP-DE_H_1570-29.11.11.pdf\n",
      ".\\DE_H_1570_003\\common final pil1570.pdf\n",
      ".\\DE_H_1570_003\\common final spc1570.pdf\n",
      ".\\DE_H_1570_003\\common-final-labop-1570-V038.pdf\n",
      ".\\DE_H_1570_003\\common-final-pl-1570-V038.pdf\n",
      ".\\DE_H_1570_003\\common-final-spc-1570-V038.pdf\n",
      ".\\DK_H_0649_001\\common-pl-010av031tr[1].pdf\n",
      ".\\DK_H_0649_001\\common-spc-010av031tr[1].pdf\n",
      ".\\DK_H_0649_001\\Mirtazapin Alternova FCT 20201216 LAB ENG A6534 DOSRJ.pdf\n",
      ".\\DK_H_0649_001\\Mirtazapin Alternova FCT 20201216 PIL ENG A6534 DOSRJ.pdf\n",
      ".\\DK_H_0649_001\\Mirtazapin Alternova FCT 20201216 SPC ENG A6534 DOSRJ.pdf\n",
      ".\\DK_H_0986_001\\Common PIL Mirtazapin Mylan _ clean _v049.pdf\n",
      ".\\DK_H_0986_001\\Common SmPC Mirtazapin Mylan _ clean.pdf\n",
      ".\\DK_H_0986_001\\common-other-labelling-dk0986-clean.pdf\n",
      ".\\DK_H_0986_002\\Common PIL Mirtazapin Mylan _ clean _v049.pdf\n",
      ".\\DK_H_0986_002\\Common SmPC Mirtazapin Mylan _ clean.pdf\n",
      ".\\DK_H_0986_002\\common-other-labelling-dk0986-clean.pdf\n",
      ".\\DK_H_0986_003\\Common PIL Mirtazapin Mylan _ clean _v049.pdf\n",
      ".\\DK_H_0986_003\\Common SmPC Mirtazapin Mylan _ clean.pdf\n",
      ".\\DK_H_0986_003\\common-other-labelling-dk0986-clean.pdf\n",
      ".\\DK_H_0986_003\\common-other-labelling_clean_0986.pdf\n",
      ".\\DK_H_0986_003\\final_common-pil_clean_DK-H-0986.pdf\n",
      ".\\DK_H_0986_003\\final_common-SmPC_clean_DK-H-0986.pdf\n",
      ".\\DK_H_1101_002\\Mirtazapine-DK_H_1101_001-003-OuP+ImP-25.06.20_clean.pdf\n",
      ".\\DK_H_1101_002\\Mirtazapine-DK_H_1101_001-003-PI-10.09.18clean.pdf\n",
      ".\\DK_H_1101_002\\Mirtazapine-DK_H_1101_001-003-PIL_clean.pdf\n",
      ".\\DK_H_1101_002\\Mirtazapine-DK_H_1101_001-003-SmPC_clean.pdf\n",
      ".\\DK_H_1101_003\\Mirtazapine-DK_H_1101_001-003-OuP+ImP-25.06.20_clean.pdf\n",
      ".\\DK_H_1101_003\\Mirtazapine-DK_H_1101_001-003-PI-10.09.18clean.pdf\n",
      ".\\DK_H_1101_003\\Mirtazapine-DK_H_1101_001-003-PIL_clean.pdf\n",
      ".\\DK_H_1101_003\\PI Mirtazapine film coated Tablets DK_H_1101_DC V03 clean 240309.pdf\n",
      ".\\PT_H_1302_001\\common-combined.pdf\n",
      ".\\PT_H_1302_001\\Final common SmPC_LAB_PIL DK_H_622_1-3_IB_22 clean.pdf\n",
      ".\\PT_H_1302_001\\Mirtazapine SmPC_PIL pediatric wording rev 110214.pdf\n",
      ".\\PT_H_1302_002\\common-combined.pdf\n",
      ".\\PT_H_1302_002\\Final common SmPC_LAB_PIL DK_H_622_1-3_IB_22 clean.pdf\n",
      ".\\PT_H_1302_002\\Mirtazapine SmPC_PIL pediatric wording rev 110214.pdf\n",
      ".\\PT_H_1302_003\\common-combined.pdf\n",
      ".\\PT_H_1302_003\\Final common SmPC_LAB_PIL DK_H_622_1-3_IB_22 clean.pdf\n",
      ".\\PT_H_1302_003\\Mirtazapine SmPC_PIL pediatric wording rev 110214.pdf\n",
      ".\\UK_H_5819_001\\common-pl-clean.pdf\n",
      ".\\UK_H_5819_001\\common-spc-clean.pdf\n",
      ".\\UK_H_5819_002\\common-pl-clean.pdf\n",
      ".\\UK_H_5819_002\\common-spc-clean.pdf\n",
      ".\\UK_H_5819_003\\common-pl-clean.pdf\n",
      ".\\UK_H_5819_003\\common-spc-clean.pdf\n",
      ".\\UK_H_5819_003\\PL-mirtazapine-DK_H_0623_01.03-V039-v1.1.1-CL-20130812.pdf\n",
      ".\\UK_H_5819_003\\SmPC-mirtazapine-DK_H_0623_01.03-V0XX-v1.1-CL-20130610.pdf\n"
     ]
    }
   ],
   "source": [
    "# files = glob.glob('./**/*spc*.pdf', \n",
    "#                    recursive = True)\n",
    "files = glob.glob('./**/*.pdf', \n",
    "                   recursive = True)\n",
    "for file in files:\n",
    "    print(file)"
   ]
  }
 ],
 "metadata": {
  "kernelspec": {
   "display_name": "Python 3 (ipykernel)",
   "language": "python",
   "name": "python3"
  },
  "language_info": {
   "codemirror_mode": {
    "name": "ipython",
    "version": 3
   },
   "file_extension": ".py",
   "mimetype": "text/x-python",
   "name": "python",
   "nbconvert_exporter": "python",
   "pygments_lexer": "ipython3",
   "version": "3.10.8"
  },
  "orig_nbformat": 4,
  "vscode": {
   "interpreter": {
    "hash": "2b1878a9a1854ce044ee21d5f2c4332f37c22701a4a1610af0039a304795d67b"
   }
  }
 },
 "nbformat": 4,
 "nbformat_minor": 2
}
